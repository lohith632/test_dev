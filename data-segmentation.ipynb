{
 "cells": [
  {
   "cell_type": "code",
   "execution_count": 1,
   "id": "803704ed",
   "metadata": {},
   "outputs": [],
   "source": [
    "import pandas as pd\n",
    "import numpy as np\n",
    "import os"
   ]
  },
  {
   "cell_type": "code",
   "execution_count": 2,
   "id": "cbf94ecb",
   "metadata": {},
   "outputs": [],
   "source": [
    "parent_dir_path = os.path.dirname(os.getcwd())\n",
    "raw_data_path = os.path.join(parent_dir_path,'data'+ os.path.sep +'raw'+os.path.sep)\n",
    "segment_data_path =  os.path.join(parent_dir_path,'data'+ os.path.sep +'segments'+os.path.sep)\n",
    "models_path =  os.path.join(parent_dir_path,'models'+os.path.sep+'ppo'+os.path.sep)\n",
    "logs_path = os.path.join(parent_dir_path,'logs'+os.path.sep+'tensorboard'+os.path.sep)\n",
    "stats_path = os.path.join(parent_dir_path,'logs'+os.path.sep+'records'+os.path.sep)\n"
   ]
  },
  {
   "cell_type": "code",
   "execution_count": 3,
   "id": "c303ab82",
   "metadata": {},
   "outputs": [],
   "source": [
    "crma_details = pd.read_excel(raw_data_path + 'CRMAccountDetails.xlsx')\n",
    "selected_regions = ['Great Lakes','South','West','Northeast']\n",
    "selected_programsTypes = ['ADN','PN','BSN','Diploma']\n",
    "crma_details = crma_details[crma_details['ProgramType'].isin(selected_programsTypes)]\n",
    "crma_details = crma_details[crma_details['Region'].isin(selected_regions)]\n",
    "Teas_reg_data = pd.read_excel(raw_data_path + 'TEAS Registrations.xlsx')\n",
    "payment_df = pd.ExcelFile(raw_data_path + 'First Payments Existing Customers.xlsx')\n",
    "all_paymnt_df = pd.read_excel(payment_df, 'All Pmt Plans')\n",
    "multi_pmt_plan_df = pd.read_excel(payment_df, 'Multi Pmt Plans Only')\n",
    "Teas_test_data = pd.read_excel(raw_data_path +'TEASTestDetails.xlsx')"
   ]
  },
  {
   "cell_type": "code",
   "execution_count": 4,
   "id": "64edda95",
   "metadata": {},
   "outputs": [],
   "source": [
    "crma_grp = crma_details.groupby(['InstitutionTypeName','SchoolType','ProgramType','Region'])['InstitutionID'].apply(list).reset_index()\n",
    "teas_reg_grp = Teas_reg_data.groupby(['Year','Quarter'])['#UsersRegistered'].sum().reset_index()\n",
    "teas_test_df = Teas_test_data[Teas_test_data['Year'].isin([2016,2017,2018,2019,2020,2021,2022,2023])]\n",
    "teas_test_df_grp = teas_test_df.groupby(['Year', 'Quarter']).sum().reset_index()"
   ]
  },
  {
   "cell_type": "code",
   "execution_count": null,
   "id": "460e0545",
   "metadata": {},
   "outputs": [],
   "source": []
  },
  {
   "cell_type": "code",
   "execution_count": 5,
   "id": "9a13fd06",
   "metadata": {},
   "outputs": [],
   "source": [
    "for indx,row in crma_grp.iterrows():\n",
    "    crma_sel_instLst = row['InstitutionID']\n",
    "    all_paymnt_df_sel = all_paymnt_df[all_paymnt_df['InstitutionID'].isin(crma_sel_instLst)]    \n",
    "    all_paymnt_df_sel_grp = all_paymnt_df_sel.groupby(['PmtYear','PmtQuarter']).agg({\n",
    "                                                         'InstitutionID': lambda x: list(x), \n",
    "                                                         'BilledStudentsPmt1':'sum'\n",
    "                                                        }).reset_index() \n",
    "    \n",
    "    key = row['InstitutionTypeName'] + '_'+  row['SchoolType']+ '_'+  row['ProgramType'] + '_' + row['Region']\n",
    "    \n",
    "    if len(all_paymnt_df_sel_grp)==30 : \n",
    "        df_bl_ts_reg=all_paymnt_df_sel_grp.merge(teas_reg_grp, left_on=['PmtYear', 'PmtQuarter'], \n",
    "                                             right_on=['Year', 'Quarter']).drop(['PmtYear','PmtQuarter','InstitutionID'],axis=1)\n",
    "        \n",
    "        df_bl_ts_reg_test=teas_test_df_grp.merge(df_bl_ts_reg,on = ['Year', 'Quarter']) \n",
    "        df = df_bl_ts_reg_test.copy()\n",
    "        df.to_csv(segment_data_path + key + '.csv')"
   ]
  },
  {
   "cell_type": "code",
   "execution_count": null,
   "id": "fb07e86a",
   "metadata": {},
   "outputs": [],
   "source": []
  }
 ],
 "metadata": {
  "kernelspec": {
   "display_name": "Python 3 (ipykernel)",
   "language": "python",
   "name": "python3"
  },
  "language_info": {
   "codemirror_mode": {
    "name": "ipython",
    "version": 3
   },
   "file_extension": ".py",
   "mimetype": "text/x-python",
   "name": "python",
   "nbconvert_exporter": "python",
   "pygments_lexer": "ipython3",
   "version": "3.7.9"
  }
 },
 "nbformat": 4,
 "nbformat_minor": 5
}
