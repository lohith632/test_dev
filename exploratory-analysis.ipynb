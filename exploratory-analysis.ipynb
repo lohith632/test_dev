{
 "cells": [
  {
   "cell_type": "code",
   "execution_count": 1,
   "id": "fef2a0f6",
   "metadata": {},
   "outputs": [],
   "source": [
    "import pandas as pd\n",
    "import numpy as np\n",
    "import os\n",
    "\n",
    "from sklearn.preprocessing import MinMaxScaler\n",
    "from sklearn.ensemble import RandomForestRegressor,GradientBoostingRegressor,VotingRegressor,StackingRegressor\n",
    "from xgboost import XGBRegressor\n",
    "\n",
    "from lib.feature_generator import FeatureGenerator"
   ]
  },
  {
   "cell_type": "code",
   "execution_count": 2,
   "id": "3620d271",
   "metadata": {},
   "outputs": [],
   "source": [
    "parent_dir_path = os.path.dirname(os.getcwd())\n",
    "segment_data_path =  os.path.join(parent_dir_path,'data'+ os.path.sep +'segments'+os.path.sep)\n",
    "main_data_path = os.path.join(parent_dir_path,'data'+ os.path.sep +'main'+os.path.sep)"
   ]
  },
  {
   "cell_type": "code",
   "execution_count": 3,
   "id": "cd8e279f",
   "metadata": {},
   "outputs": [],
   "source": [
    "segment_key = 'Private_Not for Profit_BSN_Great Lakes'"
   ]
  },
  {
   "cell_type": "code",
   "execution_count": 4,
   "id": "79460450",
   "metadata": {},
   "outputs": [],
   "source": [
    "df = pd.read_csv(segment_data_path + segment_key + '.csv').drop('Unnamed: 0',axis=1)"
   ]
  },
  {
   "cell_type": "code",
   "execution_count": 5,
   "id": "b4ebb4eb",
   "metadata": {},
   "outputs": [
    {
     "name": "stdout",
     "output_type": "stream",
     "text": [
      "initialize feature generator\n"
     ]
    }
   ],
   "source": [
    "feature_generator=FeatureGenerator(lag_window=4,rolmean_window=4,rolstd_window=4)"
   ]
  },
  {
   "cell_type": "code",
   "execution_count": 6,
   "id": "62c83cc5",
   "metadata": {},
   "outputs": [
    {
     "name": "stderr",
     "output_type": "stream",
     "text": [
      "C:\\work\\Ascend\\ATI_Student_Billing_pred\\source_DL\\source\\lib\\feature_generator.py:57: PerformanceWarning: DataFrame is highly fragmented.  This is usually the result of calling `frame.insert` many times, which has poor performance.  Consider joining all columns at once using pd.concat(axis=1) instead.  To get a de-fragmented frame, use `newframe = frame.copy()`\n",
      "  df[f'#TEASexamsAttempt{j}Advanced_rolling_std_{i}']= df[f'#TEASexamsAttempt{j}Advanced'].rolling(window=i).std()\n",
      "C:\\work\\Ascend\\ATI_Student_Billing_pred\\source_DL\\source\\lib\\feature_generator.py:58: PerformanceWarning: DataFrame is highly fragmented.  This is usually the result of calling `frame.insert` many times, which has poor performance.  Consider joining all columns at once using pd.concat(axis=1) instead.  To get a de-fragmented frame, use `newframe = frame.copy()`\n",
      "  df[f'#TEASexamsAttempt{j}Exemplary_rolling_std_{i}'] = df[f'#TEASexamsAttempt{j}Exemplary'].rolling(window=i).std()\n",
      "C:\\work\\Ascend\\ATI_Student_Billing_pred\\source_DL\\source\\lib\\feature_generator.py:59: PerformanceWarning: DataFrame is highly fragmented.  This is usually the result of calling `frame.insert` many times, which has poor performance.  Consider joining all columns at once using pd.concat(axis=1) instead.  To get a de-fragmented frame, use `newframe = frame.copy()`\n",
      "  df[f'#TEASexamsAttempt{j}Incomplete_rolling_std_{i}'] = df[f'#TEASexamsAttempt{j}Incomplete'].rolling(window=i).std()\n",
      "C:\\work\\Ascend\\ATI_Student_Billing_pred\\source_DL\\source\\lib\\feature_generator.py:53: PerformanceWarning: DataFrame is highly fragmented.  This is usually the result of calling `frame.insert` many times, which has poor performance.  Consider joining all columns at once using pd.concat(axis=1) instead.  To get a de-fragmented frame, use `newframe = frame.copy()`\n",
      "  df[f'#TEASexamsAttempt{j}rolling_std_{i}'] = df[f'#TEASexamsAttempt{j}'].rolling(window=i).std()\n",
      "C:\\work\\Ascend\\ATI_Student_Billing_pred\\source_DL\\source\\lib\\feature_generator.py:54: PerformanceWarning: DataFrame is highly fragmented.  This is usually the result of calling `frame.insert` many times, which has poor performance.  Consider joining all columns at once using pd.concat(axis=1) instead.  To get a de-fragmented frame, use `newframe = frame.copy()`\n",
      "  df[f'#TEASexamsAttempt{j}Developmentalrolling_std_{i}']= df[f'#TEASexamsAttempt{j}Developmental'].rolling(window=i).std()\n",
      "C:\\work\\Ascend\\ATI_Student_Billing_pred\\source_DL\\source\\lib\\feature_generator.py:55: PerformanceWarning: DataFrame is highly fragmented.  This is usually the result of calling `frame.insert` many times, which has poor performance.  Consider joining all columns at once using pd.concat(axis=1) instead.  To get a de-fragmented frame, use `newframe = frame.copy()`\n",
      "  df[f'#TEASexamsAttempt{j}Basic_rolling_std_{i}']= df[f'#TEASexamsAttempt{j}Basic'].rolling(window=i).std()\n",
      "C:\\work\\Ascend\\ATI_Student_Billing_pred\\source_DL\\source\\lib\\feature_generator.py:56: PerformanceWarning: DataFrame is highly fragmented.  This is usually the result of calling `frame.insert` many times, which has poor performance.  Consider joining all columns at once using pd.concat(axis=1) instead.  To get a de-fragmented frame, use `newframe = frame.copy()`\n",
      "  df[f'#TEASexamsAttempt{j}Proficient_rolling_std_{i}']= df[f'#TEASexamsAttempt{j}Proficient'].rolling(window=i).std()\n",
      "C:\\work\\Ascend\\ATI_Student_Billing_pred\\source_DL\\source\\lib\\feature_generator.py:50: PerformanceWarning: DataFrame is highly fragmented.  This is usually the result of calling `frame.insert` many times, which has poor performance.  Consider joining all columns at once using pd.concat(axis=1) instead.  To get a de-fragmented frame, use `newframe = frame.copy()`\n",
      "  df[f'billed_rolstd_{i}'] = df['BilledStudentsPmt1'].rolling(window=i).std()\n",
      "C:\\work\\Ascend\\ATI_Student_Billing_pred\\source_DL\\source\\lib\\feature_generator.py:51: PerformanceWarning: DataFrame is highly fragmented.  This is usually the result of calling `frame.insert` many times, which has poor performance.  Consider joining all columns at once using pd.concat(axis=1) instead.  To get a de-fragmented frame, use `newframe = frame.copy()`\n",
      "  df[f'registered_rolstd_{i}'] = df['#UsersRegistered'].rolling(window=i).std()\n",
      "C:\\work\\Ascend\\ATI_Student_Billing_pred\\source_DL\\source\\lib\\feature_generator.py:64: PerformanceWarning: DataFrame is highly fragmented.  This is usually the result of calling `frame.insert` many times, which has poor performance.  Consider joining all columns at once using pd.concat(axis=1) instead.  To get a de-fragmented frame, use `newframe = frame.copy()`\n",
      "  df['NumberBilledStudents_diff'] = df['BilledStudentsPmt1'].diff()\n"
     ]
    }
   ],
   "source": [
    "feature_df = feature_generator.generate_lags(df)\n",
    "feature_df = feature_generator.generate_rolling_mean(feature_df)\n",
    "feature_df = feature_generator.generate_rolling_std(feature_df)\n",
    "feature_df = feature_generator.generate_billing_student_diff(feature_df)"
   ]
  },
  {
   "cell_type": "code",
   "execution_count": 7,
   "id": "448c1b37",
   "metadata": {},
   "outputs": [],
   "source": [
    "feature_df=feature_df.drop(['Year', 'Quarter', 'Month'],axis=1)\n",
    "feature_df = feature_df.dropna()"
   ]
  },
  {
   "cell_type": "code",
   "execution_count": 8,
   "id": "54fb7786",
   "metadata": {},
   "outputs": [],
   "source": [
    "corr = feature_df.corr()\n",
    "corr['select_corr']=corr['BilledStudentsPmt1'].apply(lambda x : x > 0.4 or x < -0.4)\n",
    "corr = corr[corr['select_corr']==True]\n",
    "corr_features = list(corr.index)\n",
    "#corr_features.remove('BilledStudentsPmt1')  "
   ]
  },
  {
   "cell_type": "code",
   "execution_count": 10,
   "id": "7f3f0755",
   "metadata": {},
   "outputs": [],
   "source": [
    "scaler = MinMaxScaler()\n",
    "df_scaled = pd.DataFrame(scaler.fit_transform(feature_df), columns=feature_df.columns)  "
   ]
  },
  {
   "cell_type": "code",
   "execution_count": 11,
   "id": "9bb6b74c",
   "metadata": {},
   "outputs": [],
   "source": [
    "split_len = len(df_scaled)-4 ##leaving out last 3 quarters for prediction\n",
    "df_train = df_scaled[:split_len]\n",
    "df_test = df_scaled[-4:]\n",
    "\n",
    "#len(df_train),len(df_test)\n",
    "x_train= df_train.drop('BilledStudentsPmt1',axis=1)\n",
    "y_train = df_train[['BilledStudentsPmt1']]\n",
    "\n",
    "x_test=df_test.drop('BilledStudentsPmt1',axis=1)\n",
    "y_test = df_test[['BilledStudentsPmt1']]"
   ]
  },
  {
   "cell_type": "code",
   "execution_count": 12,
   "id": "9dd26f83",
   "metadata": {},
   "outputs": [],
   "source": [
    "rf = RandomForestRegressor()\n",
    "xgb = XGBRegressor()"
   ]
  },
  {
   "cell_type": "code",
   "execution_count": 13,
   "id": "4cf9aa03",
   "metadata": {},
   "outputs": [
    {
     "name": "stderr",
     "output_type": "stream",
     "text": [
      "C:\\softwares\\Python3.7.9\\lib\\site-packages\\ipykernel_launcher.py:2: DataConversionWarning: A column-vector y was passed when a 1d array was expected. Please change the shape of y to (n_samples,), for example using ravel().\n",
      "  \n"
     ]
    }
   ],
   "source": [
    "# Fit the model\n",
    "rf.fit(x_train, y_train)\n",
    "\n",
    "features = list(x_train.columns)\n",
    "importances = rf.feature_importances_\n",
    "\n",
    "# Create a dataframe for visualization\n",
    "importances_df = pd.DataFrame({\n",
    "    'Features': features,\n",
    "    'Importance': importances\n",
    "})\n",
    "\n",
    "rf_features = importances_df.head(10)['Features'].tolist()"
   ]
  },
  {
   "cell_type": "code",
   "execution_count": 14,
   "id": "10ca7ea0",
   "metadata": {},
   "outputs": [
    {
     "data": {
      "text/plain": [
       "['#TEASexamsAttempt1',\n",
       " '#TEASexamsAttempt1Developmental',\n",
       " '#TEASexamsAttempt1Basic',\n",
       " '#TEASexamsAttempt1Proficient',\n",
       " '#TEASexamsAttempt1Advanced',\n",
       " '#TEASexamsAttempt1Exemplary',\n",
       " '#TEASexamsAttempt1Incomplete',\n",
       " '#TEASexamsAttempt2',\n",
       " '#TEASexamsAttempt2Developmental',\n",
       " '#TEASexamsAttempt2Basic']"
      ]
     },
     "execution_count": 14,
     "metadata": {},
     "output_type": "execute_result"
    }
   ],
   "source": [
    "rf_features"
   ]
  },
  {
   "cell_type": "code",
   "execution_count": 15,
   "id": "b2db86f6",
   "metadata": {},
   "outputs": [],
   "source": [
    "xgb.fit(x_train, y_train)\n",
    "features = list(x_train.columns)\n",
    "importances = xgb.feature_importances_\n",
    "\n",
    "# Create a dataframe for visualization\n",
    "importances_df = pd.DataFrame({\n",
    "    'Features': features,\n",
    "    'Importance': importances\n",
    "})\n",
    "\n",
    "# Sort the dataframe by importance in descending order\n",
    "importances_df = importances_df.sort_values(by='Importance', ascending=False)\n",
    "xgb_features = importances_df.head(10)['Features'].tolist()"
   ]
  },
  {
   "cell_type": "code",
   "execution_count": 18,
   "id": "5f5bb753",
   "metadata": {},
   "outputs": [],
   "source": [
    "selected_features = ['registered_lag_2',\n",
    "                     'registered_rolmean_2',\n",
    "                     'registered_rolstd_2',\n",
    "                     'NumberBilledStudents_diff',\n",
    "                     'billed_lag_2',\n",
    "                     'billed_rolmean_2',\n",
    "                     'billed_rolstd_2',\n",
    "                     '#TEASexamsAttempt1lag_2',  \n",
    "                     '#TEASexamsAttempt1rolling_std_2',  \n",
    "                     '#TEASexamsAttempt1rolling_mean_2'                  \n",
    "                                         ]"
   ]
  },
  {
   "cell_type": "code",
   "execution_count": 19,
   "id": "7c482665",
   "metadata": {},
   "outputs": [],
   "source": [
    "selected_features.append('BilledStudentsPmt1')"
   ]
  },
  {
   "cell_type": "code",
   "execution_count": 20,
   "id": "b9fee76f",
   "metadata": {},
   "outputs": [],
   "source": [
    "feature_df[selected_features].to_csv(main_data_path + segment_key + '_features.csv')"
   ]
  },
  {
   "cell_type": "code",
   "execution_count": null,
   "id": "2516238c",
   "metadata": {},
   "outputs": [],
   "source": []
  }
 ],
 "metadata": {
  "kernelspec": {
   "display_name": "Python 3 (ipykernel)",
   "language": "python",
   "name": "python3"
  },
  "language_info": {
   "codemirror_mode": {
    "name": "ipython",
    "version": 3
   },
   "file_extension": ".py",
   "mimetype": "text/x-python",
   "name": "python",
   "nbconvert_exporter": "python",
   "pygments_lexer": "ipython3",
   "version": "3.7.9"
  }
 },
 "nbformat": 4,
 "nbformat_minor": 5
}
